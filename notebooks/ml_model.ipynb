{
 "cells": [
  {
   "cell_type": "markdown",
   "metadata": {},
   "source": [
    "### In this notebook i gather datasets and prepare ML model"
   ]
  },
  {
   "attachments": {},
   "cell_type": "markdown",
   "metadata": {},
   "source": [
    "Read dataset from other notebooks"
   ]
  },
  {
   "cell_type": "code",
   "execution_count": 237,
   "metadata": {},
   "outputs": [
    {
     "name": "stdout",
     "output_type": "stream",
     "text": [
      "no stored variable or alias #other\n",
      "no stored variable or alias #prices\n",
      "no stored variable or alias #loans\n"
     ]
    }
   ],
   "source": [
    "%store -r df_rel #other\n",
    "%store -r data #prices\n",
    "%store -r df  #loans\n",
    "import pandas as pd\n",
    "import numpy as np"
   ]
  },
  {
   "attachments": {},
   "cell_type": "markdown",
   "metadata": {},
   "source": [
    "Time to join our dataframes. Because loan info is global for Poland I have decided not to split statistics among regions. I will group regions and find the mean of the values i df_rel and data dataframes.\n"
   ]
  },
  {
   "cell_type": "code",
   "execution_count": 238,
   "metadata": {},
   "outputs": [],
   "source": [
    "df_rel['Mean_price'] = df_rel.mean(axis=1)"
   ]
  },
  {
   "cell_type": "code",
   "execution_count": 239,
   "metadata": {},
   "outputs": [
    {
     "data": {
      "text/html": [
       "<div>\n",
       "<style scoped>\n",
       "    .dataframe tbody tr th:only-of-type {\n",
       "        vertical-align: middle;\n",
       "    }\n",
       "\n",
       "    .dataframe tbody tr th {\n",
       "        vertical-align: top;\n",
       "    }\n",
       "\n",
       "    .dataframe thead th {\n",
       "        text-align: right;\n",
       "    }\n",
       "</style>\n",
       "<table border=\"1\" class=\"dataframe\">\n",
       "  <thead>\n",
       "    <tr style=\"text-align: right;\">\n",
       "      <th></th>\n",
       "      <th>Mean_price</th>\n",
       "    </tr>\n",
       "    <tr>\n",
       "      <th>date</th>\n",
       "      <th></th>\n",
       "    </tr>\n",
       "  </thead>\n",
       "  <tbody>\n",
       "    <tr>\n",
       "      <th>2006-10-01</th>\n",
       "      <td>593.619976</td>\n",
       "    </tr>\n",
       "    <tr>\n",
       "      <th>2007-01-01</th>\n",
       "      <td>682.689077</td>\n",
       "    </tr>\n",
       "    <tr>\n",
       "      <th>2007-04-01</th>\n",
       "      <td>645.813428</td>\n",
       "    </tr>\n",
       "    <tr>\n",
       "      <th>2007-07-01</th>\n",
       "      <td>-12.703526</td>\n",
       "    </tr>\n",
       "    <tr>\n",
       "      <th>2007-10-01</th>\n",
       "      <td>87.677613</td>\n",
       "    </tr>\n",
       "    <tr>\n",
       "      <th>...</th>\n",
       "      <td>...</td>\n",
       "    </tr>\n",
       "    <tr>\n",
       "      <th>2021-10-01</th>\n",
       "      <td>299.553089</td>\n",
       "    </tr>\n",
       "    <tr>\n",
       "      <th>2022-01-01</th>\n",
       "      <td>278.889970</td>\n",
       "    </tr>\n",
       "    <tr>\n",
       "      <th>2022-04-01</th>\n",
       "      <td>390.800201</td>\n",
       "    </tr>\n",
       "    <tr>\n",
       "      <th>2022-07-01</th>\n",
       "      <td>327.510803</td>\n",
       "    </tr>\n",
       "    <tr>\n",
       "      <th>2022-10-01</th>\n",
       "      <td>109.973538</td>\n",
       "    </tr>\n",
       "  </tbody>\n",
       "</table>\n",
       "<p>65 rows × 1 columns</p>\n",
       "</div>"
      ],
      "text/plain": [
       "            Mean_price\n",
       "date                  \n",
       "2006-10-01  593.619976\n",
       "2007-01-01  682.689077\n",
       "2007-04-01  645.813428\n",
       "2007-07-01  -12.703526\n",
       "2007-10-01   87.677613\n",
       "...                ...\n",
       "2021-10-01  299.553089\n",
       "2022-01-01  278.889970\n",
       "2022-04-01  390.800201\n",
       "2022-07-01  327.510803\n",
       "2022-10-01  109.973538\n",
       "\n",
       "[65 rows x 1 columns]"
      ]
     },
     "execution_count": 239,
     "metadata": {},
     "output_type": "execute_result"
    }
   ],
   "source": [
    "df_rel = df_rel['Mean_price'].to_frame()\n",
    "df_rel"
   ]
  },
  {
   "attachments": {},
   "cell_type": "markdown",
   "metadata": {},
   "source": [
    "Same for data dataframe, lets group by year and find mean of different values."
   ]
  },
  {
   "cell_type": "code",
   "execution_count": 240,
   "metadata": {},
   "outputs": [
    {
     "data": {
      "text/html": [
       "<div>\n",
       "<style scoped>\n",
       "    .dataframe tbody tr th:only-of-type {\n",
       "        vertical-align: middle;\n",
       "    }\n",
       "\n",
       "    .dataframe tbody tr th {\n",
       "        vertical-align: top;\n",
       "    }\n",
       "\n",
       "    .dataframe thead th {\n",
       "        text-align: right;\n",
       "    }\n",
       "</style>\n",
       "<table border=\"1\" class=\"dataframe\">\n",
       "  <thead>\n",
       "    <tr style=\"text-align: right;\">\n",
       "      <th></th>\n",
       "      <th>year</th>\n",
       "      <th>building_permissions</th>\n",
       "      <th>region</th>\n",
       "      <th>flats_sold</th>\n",
       "      <th>mean_earnings</th>\n",
       "    </tr>\n",
       "  </thead>\n",
       "  <tbody>\n",
       "    <tr>\n",
       "      <th>0</th>\n",
       "      <td>2005</td>\n",
       "      <td>226.0</td>\n",
       "      <td>DOLNOŚLĄSKIE</td>\n",
       "      <td>NaN</td>\n",
       "      <td>2507.77</td>\n",
       "    </tr>\n",
       "    <tr>\n",
       "      <th>1</th>\n",
       "      <td>2006</td>\n",
       "      <td>388.0</td>\n",
       "      <td>DOLNOŚLĄSKIE</td>\n",
       "      <td>NaN</td>\n",
       "      <td>2604.41</td>\n",
       "    </tr>\n",
       "    <tr>\n",
       "      <th>2</th>\n",
       "      <td>2007</td>\n",
       "      <td>605.0</td>\n",
       "      <td>DOLNOŚLĄSKIE</td>\n",
       "      <td>NaN</td>\n",
       "      <td>2847.92</td>\n",
       "    </tr>\n",
       "    <tr>\n",
       "      <th>3</th>\n",
       "      <td>2008</td>\n",
       "      <td>444.0</td>\n",
       "      <td>DOLNOŚLĄSKIE</td>\n",
       "      <td>NaN</td>\n",
       "      <td>3120.42</td>\n",
       "    </tr>\n",
       "    <tr>\n",
       "      <th>4</th>\n",
       "      <td>2009</td>\n",
       "      <td>331.0</td>\n",
       "      <td>DOLNOŚLĄSKIE</td>\n",
       "      <td>NaN</td>\n",
       "      <td>3332.46</td>\n",
       "    </tr>\n",
       "    <tr>\n",
       "      <th>...</th>\n",
       "      <td>...</td>\n",
       "      <td>...</td>\n",
       "      <td>...</td>\n",
       "      <td>...</td>\n",
       "      <td>...</td>\n",
       "    </tr>\n",
       "    <tr>\n",
       "      <th>175</th>\n",
       "      <td>2018</td>\n",
       "      <td>322.0</td>\n",
       "      <td>ŚLĄSKIE</td>\n",
       "      <td>535.0</td>\n",
       "      <td>4811.88</td>\n",
       "    </tr>\n",
       "    <tr>\n",
       "      <th>176</th>\n",
       "      <td>2019</td>\n",
       "      <td>264.0</td>\n",
       "      <td>ŚLĄSKIE</td>\n",
       "      <td>825.0</td>\n",
       "      <td>5206.73</td>\n",
       "    </tr>\n",
       "    <tr>\n",
       "      <th>177</th>\n",
       "      <td>2020</td>\n",
       "      <td>309.0</td>\n",
       "      <td>ŚLĄSKIE</td>\n",
       "      <td>795.0</td>\n",
       "      <td>5549.14</td>\n",
       "    </tr>\n",
       "    <tr>\n",
       "      <th>178</th>\n",
       "      <td>2021</td>\n",
       "      <td>424.0</td>\n",
       "      <td>ŚLĄSKIE</td>\n",
       "      <td>1184.0</td>\n",
       "      <td>5908.69</td>\n",
       "    </tr>\n",
       "    <tr>\n",
       "      <th>179</th>\n",
       "      <td>2022</td>\n",
       "      <td>NaN</td>\n",
       "      <td>ŚLĄSKIE</td>\n",
       "      <td>NaN</td>\n",
       "      <td>6554.53</td>\n",
       "    </tr>\n",
       "  </tbody>\n",
       "</table>\n",
       "<p>180 rows × 5 columns</p>\n",
       "</div>"
      ],
      "text/plain": [
       "     year  building_permissions        region  flats_sold  mean_earnings\n",
       "0    2005                 226.0  DOLNOŚLĄSKIE         NaN        2507.77\n",
       "1    2006                 388.0  DOLNOŚLĄSKIE         NaN        2604.41\n",
       "2    2007                 605.0  DOLNOŚLĄSKIE         NaN        2847.92\n",
       "3    2008                 444.0  DOLNOŚLĄSKIE         NaN        3120.42\n",
       "4    2009                 331.0  DOLNOŚLĄSKIE         NaN        3332.46\n",
       "..    ...                   ...           ...         ...            ...\n",
       "175  2018                 322.0       ŚLĄSKIE       535.0        4811.88\n",
       "176  2019                 264.0       ŚLĄSKIE       825.0        5206.73\n",
       "177  2020                 309.0       ŚLĄSKIE       795.0        5549.14\n",
       "178  2021                 424.0       ŚLĄSKIE      1184.0        5908.69\n",
       "179  2022                   NaN       ŚLĄSKIE         NaN        6554.53\n",
       "\n",
       "[180 rows x 5 columns]"
      ]
     },
     "execution_count": 240,
     "metadata": {},
     "output_type": "execute_result"
    }
   ],
   "source": [
    "data"
   ]
  },
  {
   "cell_type": "code",
   "execution_count": 241,
   "metadata": {},
   "outputs": [
    {
     "name": "stderr",
     "output_type": "stream",
     "text": [
      "/tmp/ipykernel_7971/622920816.py:1: FutureWarning: The default value of numeric_only in DataFrameGroupBy.mean is deprecated. In a future version, numeric_only will default to False. Either specify numeric_only or select only columns which should be valid for the function.\n",
      "  data = data.groupby('year').mean()\n"
     ]
    },
    {
     "data": {
      "text/html": [
       "<div>\n",
       "<style scoped>\n",
       "    .dataframe tbody tr th:only-of-type {\n",
       "        vertical-align: middle;\n",
       "    }\n",
       "\n",
       "    .dataframe tbody tr th {\n",
       "        vertical-align: top;\n",
       "    }\n",
       "\n",
       "    .dataframe thead th {\n",
       "        text-align: right;\n",
       "    }\n",
       "</style>\n",
       "<table border=\"1\" class=\"dataframe\">\n",
       "  <thead>\n",
       "    <tr style=\"text-align: right;\">\n",
       "      <th></th>\n",
       "      <th>building_permissions</th>\n",
       "      <th>flats_sold</th>\n",
       "      <th>mean_earnings</th>\n",
       "    </tr>\n",
       "    <tr>\n",
       "      <th>year</th>\n",
       "      <th></th>\n",
       "      <th></th>\n",
       "      <th></th>\n",
       "    </tr>\n",
       "  </thead>\n",
       "  <tbody>\n",
       "    <tr>\n",
       "      <th>2005</th>\n",
       "      <td>124.7</td>\n",
       "      <td>NaN</td>\n",
       "      <td>2400.155</td>\n",
       "    </tr>\n",
       "    <tr>\n",
       "      <th>2006</th>\n",
       "      <td>196.1</td>\n",
       "      <td>NaN</td>\n",
       "      <td>2506.910</td>\n",
       "    </tr>\n",
       "    <tr>\n",
       "      <th>2007</th>\n",
       "      <td>273.1</td>\n",
       "      <td>NaN</td>\n",
       "      <td>2698.140</td>\n",
       "    </tr>\n",
       "    <tr>\n",
       "      <th>2008</th>\n",
       "      <td>244.4</td>\n",
       "      <td>NaN</td>\n",
       "      <td>2974.223</td>\n",
       "    </tr>\n",
       "    <tr>\n",
       "      <th>2009</th>\n",
       "      <td>161.9</td>\n",
       "      <td>NaN</td>\n",
       "      <td>3183.854</td>\n",
       "    </tr>\n",
       "    <tr>\n",
       "      <th>2010</th>\n",
       "      <td>164.1</td>\n",
       "      <td>583.1</td>\n",
       "      <td>3327.473</td>\n",
       "    </tr>\n",
       "    <tr>\n",
       "      <th>2011</th>\n",
       "      <td>167.4</td>\n",
       "      <td>504.7</td>\n",
       "      <td>3457.593</td>\n",
       "    </tr>\n",
       "    <tr>\n",
       "      <th>2012</th>\n",
       "      <td>159.8</td>\n",
       "      <td>697.2</td>\n",
       "      <td>3644.457</td>\n",
       "    </tr>\n",
       "    <tr>\n",
       "      <th>2013</th>\n",
       "      <td>129.1</td>\n",
       "      <td>855.5</td>\n",
       "      <td>3732.228</td>\n",
       "    </tr>\n",
       "    <tr>\n",
       "      <th>2014</th>\n",
       "      <td>148.6</td>\n",
       "      <td>833.3</td>\n",
       "      <td>3869.448</td>\n",
       "    </tr>\n",
       "    <tr>\n",
       "      <th>2015</th>\n",
       "      <td>180.6</td>\n",
       "      <td>870.4</td>\n",
       "      <td>4027.164</td>\n",
       "    </tr>\n",
       "    <tr>\n",
       "      <th>2016</th>\n",
       "      <td>196.8</td>\n",
       "      <td>1070.6</td>\n",
       "      <td>4143.969</td>\n",
       "    </tr>\n",
       "    <tr>\n",
       "      <th>2017</th>\n",
       "      <td>258.6</td>\n",
       "      <td>1240.0</td>\n",
       "      <td>4330.519</td>\n",
       "    </tr>\n",
       "    <tr>\n",
       "      <th>2018</th>\n",
       "      <td>246.1</td>\n",
       "      <td>1502.9</td>\n",
       "      <td>4597.902</td>\n",
       "    </tr>\n",
       "    <tr>\n",
       "      <th>2019</th>\n",
       "      <td>239.7</td>\n",
       "      <td>1365.6</td>\n",
       "      <td>4923.426</td>\n",
       "    </tr>\n",
       "    <tr>\n",
       "      <th>2020</th>\n",
       "      <td>248.4</td>\n",
       "      <td>1327.5</td>\n",
       "      <td>5310.399</td>\n",
       "    </tr>\n",
       "    <tr>\n",
       "      <th>2021</th>\n",
       "      <td>275.1</td>\n",
       "      <td>1723.9</td>\n",
       "      <td>5708.551</td>\n",
       "    </tr>\n",
       "    <tr>\n",
       "      <th>2022</th>\n",
       "      <td>NaN</td>\n",
       "      <td>NaN</td>\n",
       "      <td>6267.094</td>\n",
       "    </tr>\n",
       "  </tbody>\n",
       "</table>\n",
       "</div>"
      ],
      "text/plain": [
       "      building_permissions  flats_sold  mean_earnings\n",
       "year                                                 \n",
       "2005                 124.7         NaN       2400.155\n",
       "2006                 196.1         NaN       2506.910\n",
       "2007                 273.1         NaN       2698.140\n",
       "2008                 244.4         NaN       2974.223\n",
       "2009                 161.9         NaN       3183.854\n",
       "2010                 164.1       583.1       3327.473\n",
       "2011                 167.4       504.7       3457.593\n",
       "2012                 159.8       697.2       3644.457\n",
       "2013                 129.1       855.5       3732.228\n",
       "2014                 148.6       833.3       3869.448\n",
       "2015                 180.6       870.4       4027.164\n",
       "2016                 196.8      1070.6       4143.969\n",
       "2017                 258.6      1240.0       4330.519\n",
       "2018                 246.1      1502.9       4597.902\n",
       "2019                 239.7      1365.6       4923.426\n",
       "2020                 248.4      1327.5       5310.399\n",
       "2021                 275.1      1723.9       5708.551\n",
       "2022                   NaN         NaN       6267.094"
      ]
     },
     "execution_count": 241,
     "metadata": {},
     "output_type": "execute_result"
    }
   ],
   "source": [
    "data = data.groupby('year').mean()\n",
    "data"
   ]
  },
  {
   "attachments": {},
   "cell_type": "markdown",
   "metadata": {},
   "source": [
    "Change index type to datetime"
   ]
  },
  {
   "cell_type": "code",
   "execution_count": 242,
   "metadata": {},
   "outputs": [],
   "source": [
    "data.index = pd.to_datetime(data.index, format='%Y')\n",
    "data = data.reset_index()"
   ]
  },
  {
   "cell_type": "code",
   "execution_count": 243,
   "metadata": {},
   "outputs": [],
   "source": [
    "#create temporary dataframes as a copy, for new quaters for each year\n",
    "data2 = data.copy()\n",
    "data2['year'] = data2['year'] + pd.DateOffset(months=3)\n",
    "data3 = data2.copy()\n",
    "data3['year'] = data3['year'] + pd.DateOffset(months=3)\n",
    "data4 = data3.copy()\n",
    "data4['year'] = data4['year'] + pd.DateOffset(months=3)"
   ]
  },
  {
   "cell_type": "code",
   "execution_count": 244,
   "metadata": {},
   "outputs": [],
   "source": [
    "#join dataframes so we have for quaters for each year with same values\n",
    "data = pd.concat([data, data2, data3, data4], ignore_index=True)"
   ]
  },
  {
   "cell_type": "code",
   "execution_count": 245,
   "metadata": {},
   "outputs": [],
   "source": [
    "#set index back to years\n",
    "data = data.set_index('year', drop=True)"
   ]
  },
  {
   "attachments": {},
   "cell_type": "markdown",
   "metadata": {},
   "source": [
    "Set index as date for df dataframe"
   ]
  },
  {
   "cell_type": "code",
   "execution_count": 246,
   "metadata": {},
   "outputs": [],
   "source": [
    "df = df.set_index('Date', drop=True)"
   ]
  },
  {
   "attachments": {},
   "cell_type": "markdown",
   "metadata": {},
   "source": [
    "## Now we are ready to join tables.  \n",
    "\n",
    "---\n",
    "\n",
    "\n",
    "#### Because I have unified inxes, I can use simple concat."
   ]
  },
  {
   "cell_type": "code",
   "execution_count": 247,
   "metadata": {},
   "outputs": [
    {
     "name": "stdout",
     "output_type": "stream",
     "text": [
      "df: 77\n",
      "df_rel: 65\n",
      "data: 72\n"
     ]
    }
   ],
   "source": [
    "print(f'df: {len(df)}')\n",
    "print(f'df_rel: {len(df_rel)}')\n",
    "print(f'data: {len(data)}')"
   ]
  },
  {
   "cell_type": "code",
   "execution_count": 248,
   "metadata": {},
   "outputs": [],
   "source": [
    "df = pd.concat([df,df_rel,data], axis=1)"
   ]
  },
  {
   "attachments": {},
   "cell_type": "markdown",
   "metadata": {},
   "source": [
    "### Right now we have a lot of Nans. For Mean price our first values are from the 2006-10-01 so i will remove data from earlier quarters."
   ]
  },
  {
   "cell_type": "code",
   "execution_count": 249,
   "metadata": {},
   "outputs": [
    {
     "data": {
      "text/plain": [
       "Loan_forcast             0\n",
       "Changes_expenses         0\n",
       "Alt_finansing            0\n",
       "Change_economy           0\n",
       "Change_rules             0\n",
       "Change_criteria          0\n",
       "Others                   0\n",
       "Mean_price              12\n",
       "building_permissions     9\n",
       "flats_sold              29\n",
       "mean_earnings            5\n",
       "dtype: int64"
      ]
     },
     "execution_count": 249,
     "metadata": {},
     "output_type": "execute_result"
    }
   ],
   "source": [
    "df.isnull().sum()"
   ]
  },
  {
   "cell_type": "code",
   "execution_count": 250,
   "metadata": {},
   "outputs": [],
   "source": [
    "#quick check in the middle of dataframe\n",
    "df = df[df.index >= '2006-10-01']"
   ]
  },
  {
   "attachments": {},
   "cell_type": "markdown",
   "metadata": {},
   "source": [
    "### Flats sold column has to many Nan values, I have decided to drop it."
   ]
  },
  {
   "cell_type": "code",
   "execution_count": 251,
   "metadata": {},
   "outputs": [],
   "source": [
    "df = df.drop('flats_sold', axis=1)"
   ]
  },
  {
   "attachments": {},
   "cell_type": "markdown",
   "metadata": {},
   "source": [
    "#### Building permissions after additional checks looks the same as year before so i copy the data"
   ]
  },
  {
   "cell_type": "code",
   "execution_count": 253,
   "metadata": {},
   "outputs": [],
   "source": [
    "df.loc['2022-01-01','building_permissions'] = 275.1\n",
    "df.loc['2022-04-01','building_permissions'] = 275.1\n",
    "df.loc['2022-07-01','building_permissions'] = 275.1\n",
    "df.loc['2022-10-01','building_permissions'] = 275.1\n"
   ]
  },
  {
   "cell_type": "code",
   "execution_count": 256,
   "metadata": {},
   "outputs": [
    {
     "data": {
      "text/plain": [
       "Loan_forcast            0\n",
       "Changes_expenses        0\n",
       "Alt_finansing           0\n",
       "Change_economy          0\n",
       "Change_rules            0\n",
       "Change_criteria         0\n",
       "Others                  0\n",
       "Mean_price              0\n",
       "building_permissions    0\n",
       "mean_earnings           0\n",
       "dtype: int64"
      ]
     },
     "execution_count": 256,
     "metadata": {},
     "output_type": "execute_result"
    }
   ],
   "source": [
    "df.isnull().sum()"
   ]
  },
  {
   "attachments": {},
   "cell_type": "markdown",
   "metadata": {},
   "source": [
    "---\n",
    "---\n",
    "---\n",
    "# THE MODEL"
   ]
  },
  {
   "cell_type": "code",
   "execution_count": null,
   "metadata": {},
   "outputs": [],
   "source": []
  }
 ],
 "metadata": {
  "kernelspec": {
   "display_name": "Python 3",
   "language": "python",
   "name": "python3"
  },
  "language_info": {
   "codemirror_mode": {
    "name": "ipython",
    "version": 3
   },
   "file_extension": ".py",
   "mimetype": "text/x-python",
   "name": "python",
   "nbconvert_exporter": "python",
   "pygments_lexer": "ipython3",
   "version": "3.10.4"
  },
  "orig_nbformat": 4,
  "vscode": {
   "interpreter": {
    "hash": "3ad933181bd8a04b432d3370b9dc3b0662ad032c4dfaa4e4f1596c548f763858"
   }
  }
 },
 "nbformat": 4,
 "nbformat_minor": 2
}
